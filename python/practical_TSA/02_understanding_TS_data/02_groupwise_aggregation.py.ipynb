{
 "cells": [
  {
   "cell_type": "code",
   "execution_count": 28,
   "metadata": {},
   "outputs": [],
   "source": [
    "import matplotlib.pyplot as plt\n",
    "import numpy as np\n",
    "import pandas as pd\n",
    "\n",
    "%matplotlib inline"
   ]
  },
  {
   "cell_type": "code",
   "execution_count": 24,
   "metadata": {},
   "outputs": [
    {
     "data": {
      "text/html": [
       "<div>\n",
       "<style scoped>\n",
       "    .dataframe tbody tr th:only-of-type {\n",
       "        vertical-align: middle;\n",
       "    }\n",
       "\n",
       "    .dataframe tbody tr th {\n",
       "        vertical-align: top;\n",
       "    }\n",
       "\n",
       "    .dataframe thead th {\n",
       "        text-align: right;\n",
       "    }\n",
       "</style>\n",
       "<table border=\"1\" class=\"dataframe\">\n",
       "  <thead>\n",
       "    <tr style=\"text-align: right;\">\n",
       "      <th></th>\n",
       "      <th>MeanTemp</th>\n",
       "    </tr>\n",
       "    <tr>\n",
       "      <th>Date</th>\n",
       "      <th></th>\n",
       "    </tr>\n",
       "  </thead>\n",
       "  <tbody>\n",
       "    <tr>\n",
       "      <td>1988-01-01</td>\n",
       "      <td>-23.0</td>\n",
       "    </tr>\n",
       "    <tr>\n",
       "      <td>1988-01-02</td>\n",
       "      <td>-20.5</td>\n",
       "    </tr>\n",
       "    <tr>\n",
       "      <td>1988-01-03</td>\n",
       "      <td>-22.0</td>\n",
       "    </tr>\n",
       "    <tr>\n",
       "      <td>1988-01-04</td>\n",
       "      <td>-30.5</td>\n",
       "    </tr>\n",
       "    <tr>\n",
       "      <td>1988-01-05</td>\n",
       "      <td>-31.0</td>\n",
       "    </tr>\n",
       "  </tbody>\n",
       "</table>\n",
       "</div>"
      ],
      "text/plain": [
       "            MeanTemp\n",
       "Date                \n",
       "1988-01-01     -23.0\n",
       "1988-01-02     -20.5\n",
       "1988-01-03     -22.0\n",
       "1988-01-04     -30.5\n",
       "1988-01-05     -31.0"
      ]
     },
     "execution_count": 24,
     "metadata": {},
     "output_type": "execute_result"
    }
   ],
   "source": [
    "df = pd.read_csv('../../../data/mean-daily-temperature-fisher-river.csv',\n",
    "                 parse_dates=True)\n",
    "df.rename(columns={'Mean temparature': 'MeanTemp'}, inplace=True)\n",
    "df.index = df.Date\n",
    "df.drop('Date', axis=1, inplace=True)\n",
    "df.head()"
   ]
  },
  {
   "cell_type": "code",
   "execution_count": 16,
   "metadata": {},
   "outputs": [
    {
     "data": {
      "image/png": "[encoded data removed]",
      "text/plain": [
       "<Figure size 432x288 with 1 Axes>"
      ]
     },
     "metadata": {
      "needs_background": "light"
     },
     "output_type": "display_data"
    }
   ],
   "source": [
    "plt.plot(df.MeanTemp);"
   ]
  },
  {
   "cell_type": "code",
   "execution_count": 29,
   "metadata": {},
   "outputs": [
    {
     "data": {
      "text/html": [
       "<div>\n",
       "<style scoped>\n",
       "    .dataframe tbody tr th:only-of-type {\n",
       "        vertical-align: middle;\n",
       "    }\n",
       "\n",
       "    .dataframe tbody tr th {\n",
       "        vertical-align: top;\n",
       "    }\n",
       "\n",
       "    .dataframe thead th {\n",
       "        text-align: right;\n",
       "    }\n",
       "</style>\n",
       "<table border=\"1\" class=\"dataframe\">\n",
       "  <thead>\n",
       "    <tr style=\"text-align: right;\">\n",
       "      <th></th>\n",
       "      <th>YearMonth</th>\n",
       "      <th>mean</th>\n",
       "      <th>median</th>\n",
       "      <th>std</th>\n",
       "    </tr>\n",
       "  </thead>\n",
       "  <tbody>\n",
       "    <tr>\n",
       "      <td>0</td>\n",
       "      <td>1988-01</td>\n",
       "      <td>-22.137097</td>\n",
       "      <td>-23.000</td>\n",
       "      <td>5.260640</td>\n",
       "    </tr>\n",
       "    <tr>\n",
       "      <td>1</td>\n",
       "      <td>1988-02</td>\n",
       "      <td>-19.025862</td>\n",
       "      <td>-19.500</td>\n",
       "      <td>8.598522</td>\n",
       "    </tr>\n",
       "    <tr>\n",
       "      <td>2</td>\n",
       "      <td>1988-03</td>\n",
       "      <td>-8.258065</td>\n",
       "      <td>-9.250</td>\n",
       "      <td>5.341459</td>\n",
       "    </tr>\n",
       "    <tr>\n",
       "      <td>3</td>\n",
       "      <td>1988-04</td>\n",
       "      <td>2.641667</td>\n",
       "      <td>1.875</td>\n",
       "      <td>5.057720</td>\n",
       "    </tr>\n",
       "    <tr>\n",
       "      <td>4</td>\n",
       "      <td>1988-05</td>\n",
       "      <td>11.290323</td>\n",
       "      <td>11.000</td>\n",
       "      <td>6.254364</td>\n",
       "    </tr>\n",
       "  </tbody>\n",
       "</table>\n",
       "</div>"
      ],
      "text/plain": [
       "  YearMonth       mean  median       std\n",
       "0   1988-01 -22.137097 -23.000  5.260640\n",
       "1   1988-02 -19.025862 -19.500  8.598522\n",
       "2   1988-03  -8.258065  -9.250  5.341459\n",
       "3   1988-04   2.641667   1.875  5.057720\n",
       "4   1988-05  11.290323  11.000  6.254364"
      ]
     },
     "execution_count": 29,
     "metadata": {},
     "output_type": "execute_result"
    }
   ],
   "source": [
    "df['YearMonth'] = df.index.map(lambda d: str(d)[:7])\n",
    "monthly_stats = df.groupby('YearMonth')['MeanTemp'].agg(\n",
    "    [np.mean, np.median, np.std])\n",
    "monthly_stats.reset_index(inplace=True)\n",
    "monthly_stats.head()"
   ]
  },
  {
   "cell_type": "code",
   "execution_count": 31,
   "metadata": {},
   "outputs": [
    {
     "data": {
      "text/html": [
       "<div>\n",
       "<style scoped>\n",
       "    .dataframe tbody tr th:only-of-type {\n",
       "        vertical-align: middle;\n",
       "    }\n",
       "\n",
       "    .dataframe tbody tr th {\n",
       "        vertical-align: top;\n",
       "    }\n",
       "\n",
       "    .dataframe thead th {\n",
       "        text-align: right;\n",
       "    }\n",
       "</style>\n",
       "<table border=\"1\" class=\"dataframe\">\n",
       "  <thead>\n",
       "    <tr style=\"text-align: right;\">\n",
       "      <th></th>\n",
       "      <th>YearMonth</th>\n",
       "      <th>mean</th>\n",
       "      <th>median</th>\n",
       "      <th>std</th>\n",
       "      <th>Year</th>\n",
       "      <th>Month</th>\n",
       "    </tr>\n",
       "  </thead>\n",
       "  <tbody>\n",
       "    <tr>\n",
       "      <td>0</td>\n",
       "      <td>1988-01</td>\n",
       "      <td>-22.137097</td>\n",
       "      <td>-23.000</td>\n",
       "      <td>5.260640</td>\n",
       "      <td>1988</td>\n",
       "      <td>01</td>\n",
       "    </tr>\n",
       "    <tr>\n",
       "      <td>1</td>\n",
       "      <td>1988-02</td>\n",
       "      <td>-19.025862</td>\n",
       "      <td>-19.500</td>\n",
       "      <td>8.598522</td>\n",
       "      <td>1988</td>\n",
       "      <td>02</td>\n",
       "    </tr>\n",
       "    <tr>\n",
       "      <td>2</td>\n",
       "      <td>1988-03</td>\n",
       "      <td>-8.258065</td>\n",
       "      <td>-9.250</td>\n",
       "      <td>5.341459</td>\n",
       "      <td>1988</td>\n",
       "      <td>03</td>\n",
       "    </tr>\n",
       "    <tr>\n",
       "      <td>3</td>\n",
       "      <td>1988-04</td>\n",
       "      <td>2.641667</td>\n",
       "      <td>1.875</td>\n",
       "      <td>5.057720</td>\n",
       "      <td>1988</td>\n",
       "      <td>04</td>\n",
       "    </tr>\n",
       "    <tr>\n",
       "      <td>4</td>\n",
       "      <td>1988-05</td>\n",
       "      <td>11.290323</td>\n",
       "      <td>11.000</td>\n",
       "      <td>6.254364</td>\n",
       "      <td>1988</td>\n",
       "      <td>05</td>\n",
       "    </tr>\n",
       "  </tbody>\n",
       "</table>\n",
       "</div>"
      ],
      "text/plain": [
       "  YearMonth       mean  median       std  Year Month\n",
       "0   1988-01 -22.137097 -23.000  5.260640  1988    01\n",
       "1   1988-02 -19.025862 -19.500  8.598522  1988    02\n",
       "2   1988-03  -8.258065  -9.250  5.341459  1988    03\n",
       "3   1988-04   2.641667   1.875  5.057720  1988    04\n",
       "4   1988-05  11.290323  11.000  6.254364  1988    05"
      ]
     },
     "execution_count": 31,
     "metadata": {},
     "output_type": "execute_result"
    }
   ],
   "source": [
    "monthly_stats['Year'] = monthly_stats.YearMonth.apply(lambda x: x[:4])\n",
    "monthly_stats['Month'] = monthly_stats.YearMonth.apply(lambda x: x[-2:])\n",
    "monthly_stats.sort_values(by=['Year', 'Month'], inplace=True)\n",
    "monthly_stats.head()"
   ]
  },
  {
   "cell_type": "code",
   "execution_count": 35,
   "metadata": {},
   "outputs": [
    {
     "data": {
      "image/png": "[encoded data removed]",
      "text/plain": [
       "<Figure size 432x288 with 1 Axes>"
      ]
     },
     "metadata": {
      "needs_background": "light"
     },
     "output_type": "display_data"
    }
   ],
   "source": [
    "plt.plot(monthly_stats['median'], 'k-');\n",
    "plt.plot(monthly_stats['mean']);\n",
    "plt.plot(monthly_stats['std'], 'r-');"
   ]
  },
  {
   "cell_type": "code",
   "execution_count": null,
   "metadata": {},
   "outputs": [],
   "source": []
  }
 ],
 "metadata": {
  "kernelspec": {
   "display_name": "Python 3",
   "language": "python",
   "name": "python3"
  },
  "language_info": {
   "codemirror_mode": {
    "name": "ipython",
    "version": 3
   },
   "file_extension": ".py",
   "mimetype": "text/x-python",
   "name": "python",
   "nbconvert_exporter": "python",
   "pygments_lexer": "ipython3",
   "version": "3.6.5"
  }
 },
 "nbformat": 4,
 "nbformat_minor": 2
}
