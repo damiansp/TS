{
 "cells": [
  {
   "cell_type": "code",
   "execution_count": 2,
   "id": "ec6503e6",
   "metadata": {},
   "outputs": [],
   "source": [
    "import numpy as np\n",
    "import pandas as pd"
   ]
  },
  {
   "cell_type": "code",
   "execution_count": 4,
   "id": "2d3f839c",
   "metadata": {},
   "outputs": [
    {
     "data": {
      "text/html": [
       "<div>\n",
       "<style scoped>\n",
       "    .dataframe tbody tr th:only-of-type {\n",
       "        vertical-align: middle;\n",
       "    }\n",
       "\n",
       "    .dataframe tbody tr th {\n",
       "        vertical-align: top;\n",
       "    }\n",
       "\n",
       "    .dataframe thead th {\n",
       "        text-align: right;\n",
       "    }\n",
       "</style>\n",
       "<table border=\"1\" class=\"dataframe\">\n",
       "  <thead>\n",
       "    <tr style=\"text-align: right;\">\n",
       "      <th></th>\n",
       "      <th>year_joined</th>\n",
       "      <th>member_stats</th>\n",
       "    </tr>\n",
       "  </thead>\n",
       "  <tbody>\n",
       "    <tr>\n",
       "      <th>0</th>\n",
       "      <td>2018</td>\n",
       "      <td>inactive</td>\n",
       "    </tr>\n",
       "    <tr>\n",
       "      <th>1</th>\n",
       "      <td>2015</td>\n",
       "      <td>silver</td>\n",
       "    </tr>\n",
       "    <tr>\n",
       "      <th>2</th>\n",
       "      <td>2018</td>\n",
       "      <td>bronze</td>\n",
       "    </tr>\n",
       "    <tr>\n",
       "      <th>3</th>\n",
       "      <td>2017</td>\n",
       "      <td>silver</td>\n",
       "    </tr>\n",
       "    <tr>\n",
       "      <th>4</th>\n",
       "      <td>2016</td>\n",
       "      <td>bronze</td>\n",
       "    </tr>\n",
       "  </tbody>\n",
       "</table>\n",
       "</div>"
      ],
      "text/plain": [
       "  year_joined member_stats\n",
       "0        2018     inactive\n",
       "1        2015       silver\n",
       "2        2018       bronze\n",
       "3        2017       silver\n",
       "4        2016       bronze"
      ]
     },
     "execution_count": 4,
     "metadata": {},
     "output_type": "execute_result"
    }
   ],
   "source": [
    "N = 1000\n",
    "years = [f'201{x}' for x in range(4, 9)]\n",
    "member_status = ['bronze', 'silver', 'gold', 'inactive']\n",
    "member_years = np.random.choice(years, N, p=[0.1, 0.1, 0.15, 0.3, 0.35])\n",
    "member_stats = np.random.choice(\n",
    "    member_status, N, p=[0.5, 0.3, 0.1, 0.1])\n",
    "year_joined = pd.DataFrame({'year_joined': member_years, \n",
    "                            'member_stats': member_stats})\n",
    "year_joined.head()"
   ]
  },
  {
   "cell_type": "code",
   "execution_count": 5,
   "id": "3b9374e1",
   "metadata": {},
   "outputs": [],
   "source": [
    "N_EMAILS_WEEKLY = 3"
   ]
  },
  {
   "cell_type": "code",
   "execution_count": 11,
   "id": "413e13fc",
   "metadata": {},
   "outputs": [
    {
     "data": {
      "text/plain": [
       "(2, 1, 3)"
      ]
     },
     "execution_count": 11,
     "metadata": {},
     "output_type": "execute_result"
    }
   ],
   "source": [
    "def clip(val, mn, mx):\n",
    "    return max(min(val, mx), mn)\n",
    "\n",
    "# test\n",
    "clip(2, 1, 3), clip(0, 1, 3), clip(4, 1, 3)"
   ]
  },
  {
   "cell_type": "code",
   "execution_count": 6,
   "id": "d7d75678",
   "metadata": {},
   "outputs": [],
   "source": [
    "def never_opens(pd_rng):\n",
    "    return []"
   ]
  },
  {
   "cell_type": "code",
   "execution_count": 7,
   "id": "013d8615",
   "metadata": {},
   "outputs": [],
   "source": [
    "def constant_open_rate(pd_rng):\n",
    "    p = np.random.uniform(0, 1)\n",
    "    n_opened = np.random.binomial(N_EMAILS_WEEKLY, p, len(pd_rng))\n",
    "    return n_opened"
   ]
  },
  {
   "cell_type": "code",
   "execution_count": 12,
   "id": "469e2813",
   "metadata": {},
   "outputs": [],
   "source": [
    "def open_rate_with_factor_change(pd_rng, factor):\n",
    "    n = len(pd_rng)\n",
    "    if n < 1:\n",
    "        return []\n",
    "    times = np.random.randint(0, n, int(0.1 * n))\n",
    "    n_opened = np.zeros(n)\n",
    "    for pd in range(0, n, 2):\n",
    "        try:\n",
    "            p = np.random.uniform(0, 1)\n",
    "            n_opened[pd:(pd + 2)] = np.random.binomial(\n",
    "                N_EMAILS_WEEKLY, p, 2)\n",
    "            p = clip(p * factor, 0, 1)\n",
    "        except:\n",
    "            n_opened[pd] = np.random.binomiao(N_EMAILS_WEEKLY, p, 1)\n",
    "    for t in range(n):\n",
    "        n_opened[times[t]] = 0\n",
    "    return n_opened"
   ]
  },
  {
   "cell_type": "code",
   "execution_count": 13,
   "id": "04d72284",
   "metadata": {},
   "outputs": [],
   "source": [
    "def increasing_open_rate(pd_rng):\n",
    "    return open_rate_with_factor_change(\n",
    "        pd_rng, np.random.uniform(1.01, 1.30))"
   ]
  },
  {
   "cell_type": "code",
   "execution_count": 14,
   "id": "746a1bd3",
   "metadata": {},
   "outputs": [],
   "source": [
    "def decreasing_open_rate(pd_rng):\n",
    "    return open_rate_with_factor_change(\n",
    "        pd_rng, np.random.uniform(0.5, 0.99))"
   ]
  },
  {
   "cell_type": "code",
   "execution_count": null,
   "id": "3291cef4",
   "metadata": {},
   "outputs": [],
   "source": [
    "def random_weekly_time_delta():\n",
    "    # TODO..."
   ]
  },
  {
   "cell_type": "code",
   "execution_count": 16,
   "id": "61b282ce",
   "metadata": {},
   "outputs": [],
   "source": [
    "def produce_donations(pd_rng, behavior, n_emails, use_id, join_year):\n",
    "    n = len(pd_rng)\n",
    "    donation_amounts = np.array(\n",
    "        [0, 25, 50, 75, 100, 250, 500, 1000, 1500, 2000])\n",
    "    member_has = np.random.choice(donation_amounts)\n",
    "    email_fraction = n_emails / (N_EMAILS_WEEKLY * n)\n",
    "    member_gives = member_has * email_fraction\n",
    "    member_gives_idx = np.where(member_gives >= donation_amounts)[0][-1]\n",
    "    member_gives_idx = clip(\n",
    "        member_gives_idx, 1, len(donation_ammounts) - 2)\n",
    "    n_times_gave = np.random.poisson(2) * (2018 - join_year)\n",
    "    times = np.random.randint(0, n, n_times_gave)\n",
    "    dons = pd.DataFrame({'member': [], 'amount': [], 'timestamp': []})\n",
    "    for i in range(n_times_gave):\n",
    "        donation = donation_amounts[member_gives_idx \n",
    "                                    + np.random.binomial(1, 0.3)]\n",
    "        ts = str(pd_rng[times[i]].start_time \n",
    "                 + random_weekly_time_delta())\n",
    "        dons = dons.append(\n",
    "            pd.DataFrame({'member': [use_id], \n",
    "                          'amount': [donation], \n",
    "                          'timestamp': [ts]}))\n",
    "    if dons.shape[0]:\n",
    "        dons = dons[dons.amount != 0]\n",
    "    return dons"
   ]
  }
 ],
 "metadata": {
  "kernelspec": {
   "display_name": "Python 3 (ipykernel)",
   "language": "python",
   "name": "python3"
  },
  "language_info": {
   "codemirror_mode": {
    "name": "ipython",
    "version": 3
   },
   "file_extension": ".py",
   "mimetype": "text/x-python",
   "name": "python",
   "nbconvert_exporter": "python",
   "pygments_lexer": "ipython3",
   "version": "3.8.5"
  }
 },
 "nbformat": 4,
 "nbformat_minor": 5
}
