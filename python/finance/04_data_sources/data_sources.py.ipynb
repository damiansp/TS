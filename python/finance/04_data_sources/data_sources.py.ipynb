{
 "cells": [
  {
   "cell_type": "code",
   "execution_count": 1,
   "metadata": {},
   "outputs": [],
   "source": [
    "import datetime\n",
    "\n",
    "#from   mpl_finance import quotes_historical_yahoo_ochl as yahoo_data\n",
    "import matplotlib.pyplot as plt\n",
    "import numpy as np\n",
    "import pandas as pd\n",
    "import pandas_datareader.data as get_data\n",
    "from   scipy import stats\n",
    "\n",
    "%matplotlib inline"
   ]
  },
  {
   "cell_type": "code",
   "execution_count": 2,
   "metadata": {},
   "outputs": [
    {
     "name": "stdout",
     "output_type": "stream",
     "text": [
      "IBM_monthly.csv                         ffMonthly.pkl\r\n",
      "Monthly_CO2_Concentrations.csv          inflation-consumer-prices-annual.csv\r\n",
      "Superstore.xls                          mean-daily-temperature-fisher-river.csv\r\n",
      "beerprod.dat                            or_monthly_mean_temp_1895-2019.csv\r\n",
      "chemical-concentration-readings.csv     or_monthly_mean_temp_1895-2019.txt\r\n",
      "coloradoflow.dat\r\n"
     ]
    }
   ],
   "source": [
    "!ls ../../../data"
   ]
  },
  {
   "cell_type": "code",
   "execution_count": 3,
   "metadata": {},
   "outputs": [],
   "source": [
    "DATA = '../../../data'"
   ]
  },
  {
   "cell_type": "code",
   "execution_count": 4,
   "metadata": {},
   "outputs": [
    {
     "data": {
      "text/html": [
       "<div>\n",
       "<style scoped>\n",
       "    .dataframe tbody tr th:only-of-type {\n",
       "        vertical-align: middle;\n",
       "    }\n",
       "\n",
       "    .dataframe tbody tr th {\n",
       "        vertical-align: top;\n",
       "    }\n",
       "\n",
       "    .dataframe thead th {\n",
       "        text-align: right;\n",
       "    }\n",
       "</style>\n",
       "<table border=\"1\" class=\"dataframe\">\n",
       "  <thead>\n",
       "    <tr style=\"text-align: right;\">\n",
       "      <th></th>\n",
       "      <th>Date</th>\n",
       "      <th>Open</th>\n",
       "      <th>High</th>\n",
       "      <th>Low</th>\n",
       "      <th>Close</th>\n",
       "      <th>AdjClose</th>\n",
       "      <th>Volume</th>\n",
       "    </tr>\n",
       "  </thead>\n",
       "  <tbody>\n",
       "    <tr>\n",
       "      <td>0</td>\n",
       "      <td>1962-01-01</td>\n",
       "      <td>7.713333</td>\n",
       "      <td>7.713333</td>\n",
       "      <td>7.003334</td>\n",
       "      <td>7.226666</td>\n",
       "      <td>0.598839</td>\n",
       "      <td>8760000</td>\n",
       "    </tr>\n",
       "    <tr>\n",
       "      <td>1</td>\n",
       "      <td>1962-02-01</td>\n",
       "      <td>7.300000</td>\n",
       "      <td>7.480000</td>\n",
       "      <td>7.093333</td>\n",
       "      <td>7.160000</td>\n",
       "      <td>0.593315</td>\n",
       "      <td>5737600</td>\n",
       "    </tr>\n",
       "    <tr>\n",
       "      <td>2</td>\n",
       "      <td>1962-03-01</td>\n",
       "      <td>7.186666</td>\n",
       "      <td>7.413333</td>\n",
       "      <td>7.070000</td>\n",
       "      <td>7.103333</td>\n",
       "      <td>0.588699</td>\n",
       "      <td>5344000</td>\n",
       "    </tr>\n",
       "    <tr>\n",
       "      <td>3</td>\n",
       "      <td>1962-04-01</td>\n",
       "      <td>7.100000</td>\n",
       "      <td>7.100000</td>\n",
       "      <td>6.000000</td>\n",
       "      <td>6.053333</td>\n",
       "      <td>0.501678</td>\n",
       "      <td>12851200</td>\n",
       "    </tr>\n",
       "    <tr>\n",
       "      <td>4</td>\n",
       "      <td>1962-05-01</td>\n",
       "      <td>6.053333</td>\n",
       "      <td>6.530000</td>\n",
       "      <td>4.733333</td>\n",
       "      <td>5.233333</td>\n",
       "      <td>0.433720</td>\n",
       "      <td>49307200</td>\n",
       "    </tr>\n",
       "  </tbody>\n",
       "</table>\n",
       "</div>"
      ],
      "text/plain": [
       "         Date      Open      High       Low     Close  AdjClose    Volume\n",
       "0  1962-01-01  7.713333  7.713333  7.003334  7.226666  0.598839   8760000\n",
       "1  1962-02-01  7.300000  7.480000  7.093333  7.160000  0.593315   5737600\n",
       "2  1962-03-01  7.186666  7.413333  7.070000  7.103333  0.588699   5344000\n",
       "3  1962-04-01  7.100000  7.100000  6.000000  6.053333  0.501678  12851200\n",
       "4  1962-05-01  6.053333  6.530000  4.733333  5.233333  0.433720  49307200"
      ]
     },
     "execution_count": 4,
     "metadata": {},
     "output_type": "execute_result"
    }
   ],
   "source": [
    "x = pd.read_csv(f'{DATA}/IBM_monthly.csv', parse_dates=True)\n",
    "x.rename(columns={'Adj Close': 'AdjClose'}, inplace=True)\n",
    "x.head()"
   ]
  },
  {
   "cell_type": "code",
   "execution_count": 5,
   "metadata": {},
   "outputs": [],
   "source": [
    "beg_date = datetime.datetime(1962, 11, 1)\n",
    "end_date = datetime.datetime(2019, 9, 9)"
   ]
  },
  {
   "cell_type": "code",
   "execution_count": 6,
   "metadata": {},
   "outputs": [],
   "source": [
    "#df = get_data.get_data_google('IBM', beg_date, end_date)\n",
    "#df.head()"
   ]
  },
  {
   "cell_type": "code",
   "execution_count": 7,
   "metadata": {},
   "outputs": [
    {
     "data": {
      "image/png": "[encoded data removed]",
      "text/plain": [
       "<Figure size 432x288 with 1 Axes>"
      ]
     },
     "metadata": {
      "needs_background": "light"
     },
     "output_type": "display_data"
    }
   ],
   "source": [
    "plt.plot(x.Date, x.AdjClose)\n",
    "plt.yscale('log');"
   ]
  },
  {
   "cell_type": "code",
   "execution_count": 8,
   "metadata": {},
   "outputs": [
    {
     "data": {
      "text/plain": [
       "-0.009224516105330594"
      ]
     },
     "execution_count": 8,
     "metadata": {},
     "output_type": "execute_result"
    }
   ],
   "source": [
    "x.AdjClose[1] / x.AdjClose[0] - 1"
   ]
  },
  {
   "cell_type": "code",
   "execution_count": 9,
   "metadata": {},
   "outputs": [],
   "source": [
    "x['ret'] = 0\n",
    "for i in range(x.shape[0]):\n",
    "    if i == 0:\n",
    "        x.loc[i, 'ret'] = np.nan\n",
    "    else:\n",
    "        x.loc[i, 'ret'] = (x.loc[i, 'AdjClose'] / x.loc[i - 1, 'AdjClose']\n",
    "                           - 1)"
   ]
  },
  {
   "cell_type": "code",
   "execution_count": 10,
   "metadata": {},
   "outputs": [
    {
     "name": "stdout",
     "output_type": "stream",
     "text": [
      "0.01032\n"
     ]
    }
   ],
   "source": [
    "print(f'{x.ret.mean():.5f}')"
   ]
  },
  {
   "cell_type": "code",
   "execution_count": 11,
   "metadata": {},
   "outputs": [
    {
     "data": {
      "image/png": "[encoded data removed]",
      "text/plain": [
       "<Figure size 432x288 with 1 Axes>"
      ]
     },
     "metadata": {
      "needs_background": "light"
     },
     "output_type": "display_data"
    }
   ],
   "source": [
    "plt.plot(x.ret);"
   ]
  },
  {
   "cell_type": "markdown",
   "metadata": {},
   "source": [
    "### Data from Google Finance"
   ]
  },
  {
   "cell_type": "code",
   "execution_count": 12,
   "metadata": {},
   "outputs": [
    {
     "ename": "ImmediateDeprecationError",
     "evalue": "\nGoogle finance has been immediately deprecated due to large breaks in the API without the\nintroduction of a stable replacement. Pull Requests to re-enable these data\nconnectors are welcome.\n\nSee https://github.com/pydata/pandas-datareader/issues\n",
     "output_type": "error",
     "traceback": [
      "\u001b[0;31m---------------------------------------------------------------------------\u001b[0m",
      "\u001b[0;31mImmediateDeprecationError\u001b[0m                 Traceback (most recent call last)",
      "\u001b[0;32m<ipython-input-12-13b458a6c222>\u001b[0m in \u001b[0;36m<module>\u001b[0;34m\u001b[0m\n\u001b[0;32m----> 1\u001b[0;31m \u001b[0maapl\u001b[0m \u001b[0;34m=\u001b[0m \u001b[0mget_data\u001b[0m\u001b[0;34m.\u001b[0m\u001b[0mDataReader\u001b[0m\u001b[0;34m(\u001b[0m\u001b[0;34m'AAPL'\u001b[0m\u001b[0;34m,\u001b[0m \u001b[0;34m'google'\u001b[0m\u001b[0;34m)\u001b[0m\u001b[0;34m\u001b[0m\u001b[0m\n\u001b[0m",
      "\u001b[0;32m/usr/local/lib/python3.6/site-packages/pandas_datareader/data.py\u001b[0m in \u001b[0;36mDataReader\u001b[0;34m(name, data_source, start, end, retry_count, pause, session, access_key)\u001b[0m\n\u001b[1;32m    314\u001b[0m                                  \u001b[0mchunksize\u001b[0m\u001b[0;34m=\u001b[0m\u001b[0;36m25\u001b[0m\u001b[0;34m,\u001b[0m\u001b[0;34m\u001b[0m\u001b[0m\n\u001b[1;32m    315\u001b[0m                                  \u001b[0mretry_count\u001b[0m\u001b[0;34m=\u001b[0m\u001b[0mretry_count\u001b[0m\u001b[0;34m,\u001b[0m \u001b[0mpause\u001b[0m\u001b[0;34m=\u001b[0m\u001b[0mpause\u001b[0m\u001b[0;34m,\u001b[0m\u001b[0;34m\u001b[0m\u001b[0m\n\u001b[0;32m--> 316\u001b[0;31m                                  session=session).read()\n\u001b[0m\u001b[1;32m    317\u001b[0m \u001b[0;34m\u001b[0m\u001b[0m\n\u001b[1;32m    318\u001b[0m     \u001b[0;32melif\u001b[0m \u001b[0mdata_source\u001b[0m \u001b[0;34m==\u001b[0m \u001b[0;34m\"iex\"\u001b[0m\u001b[0;34m:\u001b[0m\u001b[0;34m\u001b[0m\u001b[0m\n",
      "\u001b[0;32m/usr/local/lib/python3.6/site-packages/pandas_datareader/google/daily.py\u001b[0m in \u001b[0;36m__init__\u001b[0;34m(self, symbols, start, end, retry_count, pause, session, chunksize)\u001b[0m\n\u001b[1;32m     34\u001b[0m     def __init__(self, symbols=None, start=None, end=None, retry_count=3,\n\u001b[1;32m     35\u001b[0m                  pause=0.1, session=None, chunksize=25):\n\u001b[0;32m---> 36\u001b[0;31m         \u001b[0;32mraise\u001b[0m \u001b[0mImmediateDeprecationError\u001b[0m\u001b[0;34m(\u001b[0m\u001b[0mDEP_ERROR_MSG\u001b[0m\u001b[0;34m.\u001b[0m\u001b[0mformat\u001b[0m\u001b[0;34m(\u001b[0m\u001b[0;34m'Google finance'\u001b[0m\u001b[0;34m)\u001b[0m\u001b[0;34m)\u001b[0m\u001b[0;34m\u001b[0m\u001b[0m\n\u001b[0m\u001b[1;32m     37\u001b[0m         super(GoogleDailyReader, self).__init__(symbols, start, end,\n\u001b[1;32m     38\u001b[0m                                                 \u001b[0mretry_count\u001b[0m\u001b[0;34m,\u001b[0m \u001b[0mpause\u001b[0m\u001b[0;34m,\u001b[0m \u001b[0msession\u001b[0m\u001b[0;34m,\u001b[0m\u001b[0;34m\u001b[0m\u001b[0m\n",
      "\u001b[0;31mImmediateDeprecationError\u001b[0m: \nGoogle finance has been immediately deprecated due to large breaks in the API without the\nintroduction of a stable replacement. Pull Requests to re-enable these data\nconnectors are welcome.\n\nSee https://github.com/pydata/pandas-datareader/issues\n"
     ]
    }
   ],
   "source": [
    "aapl = get_data.DataReader('AAPL', 'google')"
   ]
  },
  {
   "cell_type": "markdown",
   "metadata": {},
   "source": [
    "### Data from FRED"
   ]
  },
  {
   "cell_type": "code",
   "execution_count": 13,
   "metadata": {},
   "outputs": [
    {
     "data": {
      "text/html": [
       "<div>\n",
       "<style scoped>\n",
       "    .dataframe tbody tr th:only-of-type {\n",
       "        vertical-align: middle;\n",
       "    }\n",
       "\n",
       "    .dataframe tbody tr th {\n",
       "        vertical-align: top;\n",
       "    }\n",
       "\n",
       "    .dataframe thead th {\n",
       "        text-align: right;\n",
       "    }\n",
       "</style>\n",
       "<table border=\"1\" class=\"dataframe\">\n",
       "  <thead>\n",
       "    <tr style=\"text-align: right;\">\n",
       "      <th></th>\n",
       "      <th>VIXCLS</th>\n",
       "    </tr>\n",
       "    <tr>\n",
       "      <th>DATE</th>\n",
       "      <th></th>\n",
       "    </tr>\n",
       "  </thead>\n",
       "  <tbody>\n",
       "    <tr>\n",
       "      <td>2010-01-01</td>\n",
       "      <td>NaN</td>\n",
       "    </tr>\n",
       "    <tr>\n",
       "      <td>2010-01-04</td>\n",
       "      <td>20.04</td>\n",
       "    </tr>\n",
       "    <tr>\n",
       "      <td>2010-01-05</td>\n",
       "      <td>19.35</td>\n",
       "    </tr>\n",
       "    <tr>\n",
       "      <td>2010-01-06</td>\n",
       "      <td>19.16</td>\n",
       "    </tr>\n",
       "    <tr>\n",
       "      <td>2010-01-07</td>\n",
       "      <td>19.06</td>\n",
       "    </tr>\n",
       "  </tbody>\n",
       "</table>\n",
       "</div>"
      ],
      "text/plain": [
       "            VIXCLS\n",
       "DATE              \n",
       "2010-01-01     NaN\n",
       "2010-01-04   20.04\n",
       "2010-01-05   19.35\n",
       "2010-01-06   19.16\n",
       "2010-01-07   19.06"
      ]
     },
     "execution_count": 13,
     "metadata": {},
     "output_type": "execute_result"
    }
   ],
   "source": [
    "vix = get_data.DataReader('VIXCLS', 'fred')\n",
    "vix.head()"
   ]
  },
  {
   "cell_type": "markdown",
   "metadata": {},
   "source": [
    "### Data from Professor French's Library"
   ]
  },
  {
   "cell_type": "code",
   "execution_count": 14,
   "metadata": {},
   "outputs": [
    {
     "data": {
      "text/plain": [
       "{0:          Mkt-RF   SMB   HML    RF\n",
       " Date                             \n",
       " 2010-01   -3.36  0.38  0.30  0.00\n",
       " 2010-02    3.40  1.21  3.16  0.00\n",
       " 2010-03    6.31  1.43  2.11  0.01\n",
       " 2010-04    2.00  4.97  2.81  0.01\n",
       " 2010-05   -7.89  0.05 -2.38  0.01\n",
       " ...         ...   ...   ...   ...\n",
       " 2019-04    3.96 -1.68  1.93  0.21\n",
       " 2019-05   -6.94 -1.20 -2.39  0.21\n",
       " 2019-06    6.93  0.33 -1.08  0.18\n",
       " 2019-07    1.19 -2.07  0.14  0.19\n",
       " 2019-08   -2.58 -2.42 -4.99  0.16\n",
       " \n",
       " [116 rows x 4 columns], 1:       Mkt-RF    SMB    HML    RF\n",
       " Date                            \n",
       " 2010   17.37  13.78  -5.31  0.12\n",
       " 2011    0.44  -6.06  -8.39  0.04\n",
       " 2012   16.28  -1.27   9.75  0.06\n",
       " 2013   35.20   7.18   1.50  0.02\n",
       " 2014   11.70  -8.07  -1.67  0.02\n",
       " 2015    0.07  -4.06  -9.63  0.02\n",
       " 2016   13.30   6.61  22.91  0.20\n",
       " 2017   21.50  -4.81 -13.92  0.80\n",
       " 2018   -6.93  -3.57  -9.22  1.81, 'DESCR': 'F-F Research Data Factors\\n-------------------------\\n\\nThis file was created by CMPT_ME_BEME_RETS using the 201908 CRSP database. The 1-month TBill return is from Ibbotson and Associates, Inc. Copyright 2019 Kenneth R. French\\n\\n  0 : (116 rows x 4 cols)\\n  1 : Annual Factors: January-December (9 rows x 4 cols)'}"
      ]
     },
     "execution_count": 14,
     "metadata": {},
     "output_type": "execute_result"
    }
   ],
   "source": [
    "ff = get_data.DataReader('F-F_Research_Data_Factors', 'famafrench')\n",
    "ff"
   ]
  },
  {
   "cell_type": "code",
   "execution_count": 15,
   "metadata": {},
   "outputs": [
    {
     "data": {
      "text/plain": [
       "{0:             Mkt-RF   SMB   HML     RF\n",
       " Date                                 \n",
       " 2010-01-08    2.89  0.26  3.90  0.001\n",
       " 2010-01-15   -0.91  0.11 -1.51  0.001\n",
       " 2010-01-22   -3.57  0.84 -1.86  0.001\n",
       " 2010-01-29   -1.70 -0.75  0.08  0.001\n",
       " 2010-02-05   -0.81 -0.71 -0.17  0.000\n",
       " ...            ...   ...   ...    ...\n",
       " 2019-08-02   -3.45  0.32 -0.98  0.041\n",
       " 2019-08-09   -0.61 -0.68 -2.07  0.041\n",
       " 2019-08-16   -1.17  0.25 -1.28  0.041\n",
       " 2019-08-23   -1.57 -0.77 -0.24  0.041\n",
       " 2019-08-30    2.70 -0.52  0.32  0.041\n",
       " \n",
       " [504 rows x 4 columns],\n",
       " 'DESCR': 'F-F Research Data Factors weekly\\n--------------------------------\\n\\nThis file was created by CMPT_ME_BEME_RETS_WEEKLY using the 201908 CRSP database. The Tbill return is the weekly rate that, over four weeks, compounds to 1-month TBill rate from Ibbotson and Associates Inc. Copyright 2019 Kenneth R. French\\n\\n  0 : (504 rows x 4 cols)'}"
      ]
     },
     "execution_count": 15,
     "metadata": {},
     "output_type": "execute_result"
    }
   ],
   "source": [
    "ff2 = get_data.DataReader('F-F_Research_Data_Factors_weekly', \n",
    "                          'famafrench')\n",
    "ff2"
   ]
  },
  {
   "cell_type": "code",
   "execution_count": 16,
   "metadata": {},
   "outputs": [
    {
     "data": {
      "text/plain": [
       "{0:          SMALL LoBM  ME1 BM2  SMALL HiBM  BIG LoBM  ME2 BM2  BIG HiBM\n",
       " Date                                                                 \n",
       " 2010-01     -3.6856  -3.0285     -2.7808   -4.0577  -2.2286   -4.3552\n",
       " 2010-02      3.4717   3.9519      7.5523    3.1401   2.8337    5.3835\n",
       " 2010-03      7.0506   8.0982      8.8878    5.3091   6.7391    7.6899\n",
       " 2010-04      4.1833   6.1181      9.3935    0.9872   2.3956    1.3958\n",
       " 2010-05     -6.0381  -7.0571    -10.4467   -7.4415  -8.4347   -7.8024\n",
       " ...             ...      ...         ...       ...      ...       ...\n",
       " 2019-04      2.4292   4.1192      3.1520    4.1964   3.1897    7.3419\n",
       " 2019-05     -7.1011  -8.1733     -9.8636   -6.4300  -6.6596   -8.4482\n",
       " 2019-06      8.3483   7.6431      6.3579    7.1503   7.2143    6.9804\n",
       " 2019-07     -0.6533   0.5307     -1.0465    1.8013   0.7627    2.4796\n",
       " 2019-08     -4.1131  -5.9850     -8.2893   -1.0486  -3.2257   -6.8615\n",
       " \n",
       " [116 rows x 6 columns],\n",
       " 1:          SMALL LoBM  ME1 BM2  SMALL HiBM  BIG LoBM  ME2 BM2  BIG HiBM\n",
       " Date                                                                 \n",
       " 2010-01     -2.9280  -2.0954      3.1156   -3.6415  -3.2048   -2.1702\n",
       " 2010-02      2.8806   3.5997      4.0830    4.0758   4.5065    4.3358\n",
       " 2010-03      6.5113   7.7954      9.0725    6.8222   7.1600    8.1189\n",
       " 2010-04      6.0926   6.7153     12.0652    2.8212   3.3767    4.6326\n",
       " 2010-05     -7.4470  -7.3041     -9.4502   -6.6298  -7.8925   -7.5703\n",
       " ...             ...      ...         ...       ...      ...       ...\n",
       " 2019-04      1.5716   2.6177      1.7972    3.7447   4.4320    5.7783\n",
       " 2019-05     -8.3753  -8.4202     -8.9677   -7.1965  -7.7952   -9.1818\n",
       " 2019-06      7.1290   5.6006      3.2458    8.4549   8.0657    7.2633\n",
       " 2019-07     -2.3092  -1.0692     -2.1777    1.8794   1.1688    1.2257\n",
       " 2019-08     -4.9753  -6.2660     -6.5567   -2.7059  -4.1754   -7.9531\n",
       " \n",
       " [116 rows x 6 columns],\n",
       " 2:       SMALL LoBM  ME1 BM2  SMALL HiBM  BIG LoBM  ME2 BM2  BIG HiBM\n",
       " Date                                                              \n",
       " 2010     29.6316  29.2924     26.5742   15.4805  20.7587    7.9106\n",
       " 2011     -5.6865  -5.0049     -8.4883    3.8236   5.3107  -10.1467\n",
       " 2012     14.8969  18.2451     19.9230   14.9777  12.4465   29.4457\n",
       " 2013     45.1984  40.5584     41.9590   33.8974  32.1435   40.1433\n",
       " 2014      5.2679   3.7889      3.8823   13.7987  11.5161   11.8366\n",
       " 2015     -3.0201  -3.4218     -9.7191    4.7505  -0.9178   -7.8194\n",
       " 2016      7.8622  23.5745     36.6136    8.7688  13.6158   25.8374\n",
       " 2017     25.5656  13.1968      9.5702   30.1850  14.2188   18.3478\n",
       " 2018     -8.2220 -11.0151    -12.6164   -0.0200  -7.0619  -14.0751,\n",
       " 3:       SMALL LoBM  ME1 BM2  SMALL HiBM  BIG LoBM  ME2 BM2  BIG HiBM\n",
       " Date                                                              \n",
       " 2010     26.7269  29.9340     28.5809   27.3524  24.6217   18.4250\n",
       " 2011    -17.0063  -9.5207     -9.4164    0.3309   1.3445   -3.9300\n",
       " 2012     13.1815  16.4955     25.2812   15.8898  14.5487   22.7666\n",
       " 2013     43.5829  45.0979     46.9268   38.8847  36.2391   45.8639\n",
       " 2014      0.6187   2.5158      2.7237   10.6447  10.9041    6.5479\n",
       " 2015     -5.9918  -7.8553     -8.8243    1.0788  -4.5420  -11.9023\n",
       " 2016      1.8363  20.6083     32.6457    8.7161  20.8976   29.0732\n",
       " 2017     19.4632  15.2122     15.0462   27.7547  17.6972   12.8962\n",
       " 2018    -16.8373 -17.0766    -18.3088   -4.7381 -10.2576  -18.4556,\n",
       " 4:          SMALL LoBM  ME1 BM2  SMALL HiBM  BIG LoBM  ME2 BM2  BIG HiBM\n",
       " Date                                                                 \n",
       " 2010-01         638      968        1255       363      318       121\n",
       " 2010-02         635      960        1244       362      317       121\n",
       " 2010-03         631      958        1231       360      315       121\n",
       " 2010-04         630      952        1215       360      313       120\n",
       " 2010-05         626      948        1205       360      313       120\n",
       " ...             ...      ...         ...       ...      ...       ...\n",
       " 2019-04         549      812         823       391      298       139\n",
       " 2019-05         549      811         816       390      298       139\n",
       " 2019-06         548      809         811       390      297       139\n",
       " 2019-07         551      867         875       429      302       130\n",
       " 2019-08         548      861         872       428      300       130\n",
       " \n",
       " [116 rows x 6 columns],\n",
       " 5:          SMALL LoBM  ME1 BM2  SMALL HiBM  BIG LoBM   ME2 BM2  BIG HiBM\n",
       " Date                                                                  \n",
       " 2010-01      461.87   426.84      222.22  17022.84  11144.83   8910.00\n",
       " 2010-02      446.45   415.60      217.34  16271.30  10895.84   8517.97\n",
       " 2010-03      461.59   432.35      235.78  16798.63  11230.16   8964.32\n",
       " 2010-04      493.77   467.64      258.60  17661.80  12011.89   9700.22\n",
       " 2010-05      513.06   495.00      284.78  17822.08  12282.45   9831.77\n",
       " ...             ...      ...         ...       ...       ...       ...\n",
       " 2019-04      934.80   825.11      509.48  38699.53  22784.64  25551.47\n",
       " 2019-05      957.43   859.39      526.58  40377.12  23479.47  27359.76\n",
       " 2019-06      890.23   788.15      475.36  37708.32  21903.87  24977.60\n",
       " 2019-07      918.05   768.12      507.57  39482.32  22710.40  17238.16\n",
       " 2019-08      916.17   772.83      503.71  40220.68  22876.22  17617.63\n",
       " \n",
       " [116 rows x 6 columns],\n",
       " 6:          SMALL LoBM  ME1 BM2  SMALL HiBM  BIG LoBM  ME2 BM2  BIG HiBM\n",
       " Date                                                                 \n",
       " 2010-01      0.3261   0.7812      2.2452    0.3012   0.7400    1.5701\n",
       " 2010-02      0.3258   0.7824      2.2368    0.3000   0.7410    1.5833\n",
       " 2010-03      0.3266   0.7831      2.2510    0.3006   0.7418    1.5915\n",
       " 2010-04      0.3250   0.7836      2.2809    0.3005   0.7420    1.6051\n",
       " 2010-05      0.3246   0.7850      2.3131    0.3011   0.7410    1.6096\n",
       " ...             ...      ...         ...       ...      ...       ...\n",
       " 2019-04      0.1603   0.4210      0.9433    0.1392   0.4027    0.7617\n",
       " 2019-05      0.1608   0.4217      0.9399    0.1391   0.4021    0.7620\n",
       " 2019-06      0.1603   0.4210      0.9323    0.1390   0.4022    0.7623\n",
       " 2019-07      0.1868   0.5423      1.2164    0.1621   0.5640    1.1432\n",
       " 2019-08      0.1870   0.5417      1.2087    0.1624   0.5640    1.1456\n",
       " \n",
       " [116 rows x 6 columns],\n",
       " 7:          SMALL LoBM  ME1 BM2  SMALL HiBM  BIG LoBM  ME2 BM2  BIG HiBM\n",
       " Date                                                                 \n",
       " 2010-01      0.3250   0.7961      1.7563    0.2919   0.7455    1.4285\n",
       " 2010-02      0.3264   0.8049      1.7714    0.2926   0.7503    1.4597\n",
       " 2010-03      0.3270   0.8056      1.7668    0.2924   0.7494    1.4603\n",
       " 2010-04      0.3248   0.8050      1.7916    0.2915   0.7511    1.4809\n",
       " 2010-05      0.3255   0.8055      1.8113    0.2916   0.7523    1.5007\n",
       " ...             ...      ...         ...       ...      ...       ...\n",
       " 2019-04      0.1563   0.4122      0.8978    0.1344   0.4078    0.8078\n",
       " 2019-05      0.1571   0.4135      0.8962    0.1343   0.4076    0.8089\n",
       " 2019-06      0.1558   0.4127      0.8897    0.1341   0.4079    0.8103\n",
       " 2019-07      0.1700   0.4865      1.1590    0.1364   0.5034    0.9712\n",
       " 2019-08      0.1677   0.4866      1.1449    0.1366   0.5039    0.9743\n",
       " \n",
       " [116 rows x 6 columns],\n",
       " 8:          SMALL LoBM  ME1 BM2  SMALL HiBM  BIG LoBM  ME2 BM2  BIG HiBM\n",
       " Date                                                                 \n",
       " 2010-01      0.3057   0.1822      0.2321    0.5116   0.2723    0.1248\n",
       " 2010-02      0.3352   0.1787      0.2210    0.5131   0.2690    0.1253\n",
       " 2010-03      0.3496   0.1790      0.2138    0.5137   0.2687    0.1257\n",
       " 2010-04      0.4115   0.1798      0.2115    0.5125   0.2687    0.1210\n",
       " 2010-05      0.3681   0.1737      0.2242    0.5132   0.2712    0.1186\n",
       " ...             ...      ...         ...       ...      ...       ...\n",
       " 2019-04     -0.1902   0.1746      0.1575    0.8850   0.2674    0.1681\n",
       " 2019-05     -0.1354   0.1793      0.1581    0.9043   0.2660    0.1684\n",
       " 2019-06     -0.1639   0.1766      0.1560    0.9363   0.2656    0.1690\n",
       " 2019-07    -12.7173   0.1934      0.1661    0.7631   0.2421    0.2010\n",
       " 2019-08    -11.1140   0.1952      0.1659    0.7652   0.2415    0.2025\n",
       " \n",
       " [116 rows x 6 columns],\n",
       " 9:          SMALL LoBM  ME1 BM2  SMALL HiBM  BIG LoBM  ME2 BM2  BIG HiBM\n",
       " Date                                                                 \n",
       " 2010-01      0.1114   0.0410      0.0062    0.0644   0.1104    0.0505\n",
       " 2010-02      0.1077   0.0358      0.0025    0.0622   0.1112    0.0503\n",
       " 2010-03      0.1072   0.0358     -0.0025    0.0629   0.1097    0.0527\n",
       " 2010-04      0.1030   0.0272     -0.0034    0.0643   0.1119    0.0500\n",
       " 2010-05      0.0992   0.0260     -0.0096    0.0646   0.1122    0.0495\n",
       " ...             ...      ...         ...       ...      ...       ...\n",
       " 2019-04      0.2446   0.1169      0.0846    0.1432   0.0733    0.0872\n",
       " 2019-05      0.2378   0.1164      0.0866    0.1450   0.0749    0.0864\n",
       " 2019-06      0.2348   0.1175      0.0855    0.1442   0.0732    0.0832\n",
       " 2019-07      0.2514   0.1196      0.0965    0.0725   0.0555    0.0750\n",
       " 2019-08      0.2456   0.1183      0.0941    0.0726   0.0566    0.0745\n",
       " \n",
       " [116 rows x 6 columns],\n",
       " 'DESCR': '6 Portfolios 2x3\\n----------------\\n\\nThis file was created by CMPT_ME_BEME_OP_INV_RETS using the 201908 CRSP database. It contains value- and equal-weighted returns for portfolios formed on ME and BEME. The portfolios are constructed at the end of June. BEME is book value at the last fiscal year end of the prior calendar year divided by ME at the end of December of the prior year. Annual returns are from January to December. Missing data are indicated by -99.99 or -999. The break points include utilities and include financials. The portfolios include utilities and include financials. Copyright 2019 Kenneth R. French\\n\\n  0 : Average Value Weighted Returns -- Monthly (116 rows x 6 cols)\\n  1 : Average Equal Weighted Returns -- Monthly (116 rows x 6 cols)\\n  2 : Average Value Weighted Returns -- Annual (9 rows x 6 cols)\\n  3 : Average Equal Weighted Returns -- Annual (9 rows x 6 cols)\\n  4 : Number of Firms in Portfolios (116 rows x 6 cols)\\n  5 : Average Market Cap (116 rows x 6 cols)\\n  6 : For portfolios formed in June of year t   Value Weight Average of BE/ME Calculated for June of t to June of t+1 as:    Sum[ME(Mth) * BE(Fiscal Year t-1) / ME(Dec t-1)] / Sum[ME(Mth)]   Where Mth is a month from June of t to June of t+1   and BE(Fiscal Year t-1) is adjusted for net stock issuance to Dec t-1 (116 rows x 6 cols)\\n  7 : For portfolios formed in June of year t   Value Weight Average of BE_FYt-1/ME_June t Calculated for June of t to June of t+1 as:    Sum[ME(Mth) * BE(Fiscal Year t-1) / ME(Jun t)] / Sum[ME(Mth)]   Where Mth is a month from June of t to June of t+1   and BE(Fiscal Year t-1) is adjusted for net stock issuance to Jun t (116 rows x 6 cols)\\n  8 : For portfolios formed in June of year t   Value Weight Average of OP Calculated as:    Sum[ME(Mth) * OP(fiscal year t-1) / BE(fiscal year t-1)] / Sum[ME(Mth)]    Where Mth is a month from June of t to June of t+1 (116 rows x 6 cols)\\n  9 : For portfolios formed in June of year t   Value Weight Average of investment (rate of growth of assets) Calculated as:    Sum[ME(Mth) * Log(ASSET(t-1) / ASSET(t-2) / Sum[ME(Mth)]    Where Mth is a month from June of t to June of t+1 (116 rows x 6 cols)'}"
      ]
     },
     "execution_count": 16,
     "metadata": {},
     "output_type": "execute_result"
    }
   ],
   "source": [
    "ff3 = get_data.DataReader('6_Portfolios_2x3', 'famafrench')\n",
    "ff3"
   ]
  },
  {
   "cell_type": "code",
   "execution_count": 17,
   "metadata": {},
   "outputs": [
    {
     "data": {
      "text/plain": [
       "{0:          ST_Rev\n",
       " Date           \n",
       " 2010-01    3.64\n",
       " 2010-02    1.80\n",
       " 2010-03    0.77\n",
       " 2010-04   -1.77\n",
       " 2010-05    0.58\n",
       " ...         ...\n",
       " 2019-04    0.92\n",
       " 2019-05    0.62\n",
       " 2019-06    3.81\n",
       " 2019-07   -0.17\n",
       " 2019-08   -2.51\n",
       " \n",
       " [116 rows x 1 columns], 1:       ST_Rev\n",
       " Date        \n",
       " 2010    9.53\n",
       " 2011   -7.81\n",
       " 2012    6.71\n",
       " 2013   -1.21\n",
       " 2014   -2.50\n",
       " 2015    0.71\n",
       " 2016    6.18\n",
       " 2017    2.86\n",
       " 2018    3.14, 'DESCR': 'F-F ST Reversal Factor\\n----------------------\\n\\nThis file was created by CMPT_ME_PRIOR_RETS using the 201908 CRSP database. It contains a momentum factor, constructed from six value-weight portfolios formed using independent sorts on size and prior return of NYSE, AMEX, and NASDAQ stocks. ST_Rev is the average of the returns on two (big and small) low prior return portfolios minus the average of the returns on two high prior return portfolios. The portfolios are constructed monthly. Big means a firm is above the median market cap on the NYSE at the end of the previous month; small firms are below the median NYSE market cap. Prior return is measured from month - 1 to - 1. Firms in the low prior return portfolio are below the 30th NYSE percentile. Those in the high portfolio are above the 70th NYSE percentile. Missing data are indicated by -99.99 or -999. Copyright 2019 Kenneth R. French\\n\\n  0 : (116 rows x 1 cols)\\n  1 : Annual Factors: January-December (9 rows x 1 cols)'}"
      ]
     },
     "execution_count": 17,
     "metadata": {},
     "output_type": "execute_result"
    }
   ],
   "source": [
    "ff4 = get_data.DataReader('F-F_ST_Reversal_Factor', 'famafrench')\n",
    "ff4"
   ]
  },
  {
   "cell_type": "markdown",
   "metadata": {},
   "source": [
    "### Census Bureau, Treasury, and BLS Stats\n",
    "- http://www.census.gov/compendia/statab/hist_stats.html\n",
    "- http://www.census.gov/econ/census/data/historical_data.html\n",
    "- http://www.bls.gov/"
   ]
  },
  {
   "cell_type": "markdown",
   "metadata": {},
   "source": [
    "### Generating 2 Dozen Data Sets\n",
    "- Data: http://canisius.edu/~yany/python/ffMonthly.pkl"
   ]
  },
  {
   "cell_type": "code",
   "execution_count": 18,
   "metadata": {},
   "outputs": [],
   "source": [
    "#!mv /Users/dsatterthwaite/Downloads/ffMonthly.pkl ../../../data/"
   ]
  },
  {
   "cell_type": "code",
   "execution_count": 19,
   "metadata": {},
   "outputs": [],
   "source": [
    "#!ls ../../../data"
   ]
  },
  {
   "cell_type": "code",
   "execution_count": 20,
   "metadata": {},
   "outputs": [
    {
     "data": {
      "text/html": [
       "<div>\n",
       "<style scoped>\n",
       "    .dataframe tbody tr th:only-of-type {\n",
       "        vertical-align: middle;\n",
       "    }\n",
       "\n",
       "    .dataframe tbody tr th {\n",
       "        vertical-align: top;\n",
       "    }\n",
       "\n",
       "    .dataframe thead th {\n",
       "        text-align: right;\n",
       "    }\n",
       "</style>\n",
       "<table border=\"1\" class=\"dataframe\">\n",
       "  <thead>\n",
       "    <tr style=\"text-align: right;\">\n",
       "      <th></th>\n",
       "      <th>MKT_RF</th>\n",
       "      <th>SMB</th>\n",
       "      <th>HML</th>\n",
       "      <th>RF</th>\n",
       "    </tr>\n",
       "  </thead>\n",
       "  <tbody>\n",
       "    <tr>\n",
       "      <td>192607</td>\n",
       "      <td>0.0296</td>\n",
       "      <td>-0.0230</td>\n",
       "      <td>-0.0287</td>\n",
       "      <td>0.0022</td>\n",
       "    </tr>\n",
       "    <tr>\n",
       "      <td>192608</td>\n",
       "      <td>0.0264</td>\n",
       "      <td>-0.0140</td>\n",
       "      <td>0.0419</td>\n",
       "      <td>0.0025</td>\n",
       "    </tr>\n",
       "    <tr>\n",
       "      <td>192609</td>\n",
       "      <td>0.0036</td>\n",
       "      <td>-0.0132</td>\n",
       "      <td>0.0001</td>\n",
       "      <td>0.0023</td>\n",
       "    </tr>\n",
       "    <tr>\n",
       "      <td>192610</td>\n",
       "      <td>-0.0324</td>\n",
       "      <td>0.0004</td>\n",
       "      <td>0.0051</td>\n",
       "      <td>0.0032</td>\n",
       "    </tr>\n",
       "    <tr>\n",
       "      <td>192611</td>\n",
       "      <td>0.0253</td>\n",
       "      <td>-0.0020</td>\n",
       "      <td>-0.0035</td>\n",
       "      <td>0.0031</td>\n",
       "    </tr>\n",
       "  </tbody>\n",
       "</table>\n",
       "</div>"
      ],
      "text/plain": [
       "        MKT_RF     SMB     HML      RF\n",
       "192607  0.0296 -0.0230 -0.0287  0.0022\n",
       "192608  0.0264 -0.0140  0.0419  0.0025\n",
       "192609  0.0036 -0.0132  0.0001  0.0023\n",
       "192610 -0.0324  0.0004  0.0051  0.0032\n",
       "192611  0.0253 -0.0020 -0.0035  0.0031"
      ]
     },
     "execution_count": 20,
     "metadata": {},
     "output_type": "execute_result"
    }
   ],
   "source": [
    "ff = pd.read_pickle('../../../data/ffMonthly.pkl')\n",
    "ff.head()"
   ]
  },
  {
   "cell_type": "markdown",
   "metadata": {},
   "source": [
    "### CRSP and Compustat Data\n",
    "-  http://www.crsp.com/\n",
    "- https://www.spglobal.com/marketintelligence/en/?product=compustat-research-insight"
   ]
  },
  {
   "cell_type": "code",
   "execution_count": null,
   "metadata": {},
   "outputs": [],
   "source": []
  }
 ],
 "metadata": {
  "kernelspec": {
   "display_name": "Python 3",
   "language": "python",
   "name": "python3"
  },
  "language_info": {
   "codemirror_mode": {
    "name": "ipython",
    "version": 3
   },
   "file_extension": ".py",
   "mimetype": "text/x-python",
   "name": "python",
   "nbconvert_exporter": "python",
   "pygments_lexer": "ipython3",
   "version": "3.6.5"
  }
 },
 "nbformat": 4,
 "nbformat_minor": 2
}
