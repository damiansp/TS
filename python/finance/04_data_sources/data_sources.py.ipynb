{
 "cells": [
  {
   "cell_type": "code",
   "execution_count": 1,
   "metadata": {},
   "outputs": [],
   "source": [
    "import datetime\n",
    "\n",
    "#from   mpl_finance import quotes_historical_yahoo_ochl as yahoo_data\n",
    "import matplotlib.pyplot as plt\n",
    "import pandas as pd\n",
    "import pandas_datareader.data as get_data\n",
    "\n",
    "%matplotlib inline"
   ]
  },
  {
   "cell_type": "code",
   "execution_count": 2,
   "metadata": {},
   "outputs": [
    {
     "name": "stdout",
     "output_type": "stream",
     "text": [
      "IBM_monthly.csv                      inflation-consumer-prices-annual.csv\r\n",
      "Monthly_CO2_Concentrations.csv       or_monthly_mean_temp_1895-2019.csv\r\n",
      "coloradoflow.dat                     or_monthly_mean_temp_1895-2019.txt\r\n"
     ]
    }
   ],
   "source": [
    "!ls ../../../data"
   ]
  },
  {
   "cell_type": "code",
   "execution_count": 3,
   "metadata": {},
   "outputs": [],
   "source": [
    "DATA = '../../../data'"
   ]
  },
  {
   "cell_type": "code",
   "execution_count": 8,
   "metadata": {},
   "outputs": [
    {
     "data": {
      "text/html": [
       "<div>\n",
       "<style scoped>\n",
       "    .dataframe tbody tr th:only-of-type {\n",
       "        vertical-align: middle;\n",
       "    }\n",
       "\n",
       "    .dataframe tbody tr th {\n",
       "        vertical-align: top;\n",
       "    }\n",
       "\n",
       "    .dataframe thead th {\n",
       "        text-align: right;\n",
       "    }\n",
       "</style>\n",
       "<table border=\"1\" class=\"dataframe\">\n",
       "  <thead>\n",
       "    <tr style=\"text-align: right;\">\n",
       "      <th></th>\n",
       "      <th>Date</th>\n",
       "      <th>Open</th>\n",
       "      <th>High</th>\n",
       "      <th>Low</th>\n",
       "      <th>Close</th>\n",
       "      <th>AdjClose</th>\n",
       "      <th>Volume</th>\n",
       "    </tr>\n",
       "  </thead>\n",
       "  <tbody>\n",
       "    <tr>\n",
       "      <td>0</td>\n",
       "      <td>1962-01-01</td>\n",
       "      <td>7.713333</td>\n",
       "      <td>7.713333</td>\n",
       "      <td>7.003334</td>\n",
       "      <td>7.226666</td>\n",
       "      <td>0.598839</td>\n",
       "      <td>8760000</td>\n",
       "    </tr>\n",
       "    <tr>\n",
       "      <td>1</td>\n",
       "      <td>1962-02-01</td>\n",
       "      <td>7.300000</td>\n",
       "      <td>7.480000</td>\n",
       "      <td>7.093333</td>\n",
       "      <td>7.160000</td>\n",
       "      <td>0.593315</td>\n",
       "      <td>5737600</td>\n",
       "    </tr>\n",
       "    <tr>\n",
       "      <td>2</td>\n",
       "      <td>1962-03-01</td>\n",
       "      <td>7.186666</td>\n",
       "      <td>7.413333</td>\n",
       "      <td>7.070000</td>\n",
       "      <td>7.103333</td>\n",
       "      <td>0.588699</td>\n",
       "      <td>5344000</td>\n",
       "    </tr>\n",
       "    <tr>\n",
       "      <td>3</td>\n",
       "      <td>1962-04-01</td>\n",
       "      <td>7.100000</td>\n",
       "      <td>7.100000</td>\n",
       "      <td>6.000000</td>\n",
       "      <td>6.053333</td>\n",
       "      <td>0.501678</td>\n",
       "      <td>12851200</td>\n",
       "    </tr>\n",
       "    <tr>\n",
       "      <td>4</td>\n",
       "      <td>1962-05-01</td>\n",
       "      <td>6.053333</td>\n",
       "      <td>6.530000</td>\n",
       "      <td>4.733333</td>\n",
       "      <td>5.233333</td>\n",
       "      <td>0.433720</td>\n",
       "      <td>49307200</td>\n",
       "    </tr>\n",
       "  </tbody>\n",
       "</table>\n",
       "</div>"
      ],
      "text/plain": [
       "         Date      Open      High       Low     Close  AdjClose    Volume\n",
       "0  1962-01-01  7.713333  7.713333  7.003334  7.226666  0.598839   8760000\n",
       "1  1962-02-01  7.300000  7.480000  7.093333  7.160000  0.593315   5737600\n",
       "2  1962-03-01  7.186666  7.413333  7.070000  7.103333  0.588699   5344000\n",
       "3  1962-04-01  7.100000  7.100000  6.000000  6.053333  0.501678  12851200\n",
       "4  1962-05-01  6.053333  6.530000  4.733333  5.233333  0.433720  49307200"
      ]
     },
     "execution_count": 8,
     "metadata": {},
     "output_type": "execute_result"
    }
   ],
   "source": [
    "x = pd.read_csv(f'{DATA}/IBM_monthly.csv', parse_dates=True)\n",
    "x.rename(columns={'Adj Close': 'AdjClose'}, inplace=True)\n",
    "x.head()"
   ]
  },
  {
   "cell_type": "code",
   "execution_count": 9,
   "metadata": {},
   "outputs": [],
   "source": [
    "beg_date = datetime.datetime(1962, 11, 1)\n",
    "end_date = datetime.datetime(2019, 9, 9)"
   ]
  },
  {
   "cell_type": "code",
   "execution_count": 10,
   "metadata": {},
   "outputs": [],
   "source": [
    "#df = get_data.get_data_google('IBM', beg_date, end_date)\n",
    "#df.head()"
   ]
  },
  {
   "cell_type": "code",
   "execution_count": 11,
   "metadata": {},
   "outputs": [
    {
     "data": {
      "image/png": "[encoded data removed]",
      "text/plain": [
       "<Figure size 432x288 with 1 Axes>"
      ]
     },
     "metadata": {
      "needs_background": "light"
     },
     "output_type": "display_data"
    }
   ],
   "source": [
    "plt.plot(x.Date, x.AdjClose)\n",
    "plt.yscale('log');"
   ]
  },
  {
   "cell_type": "code",
   "execution_count": 14,
   "metadata": {},
   "outputs": [],
   "source": [
    "ret = x.AdjClose[1:] / x.AdjClose[:-1] - 1\n",
    "x['ret'] = ret"
   ]
  },
  {
   "cell_type": "code",
   "execution_count": null,
   "metadata": {},
   "outputs": [],
   "source": []
  }
 ],
 "metadata": {
  "kernelspec": {
   "display_name": "Python 3",
   "language": "python",
   "name": "python3"
  },
  "language_info": {
   "codemirror_mode": {
    "name": "ipython",
    "version": 3
   },
   "file_extension": ".py",
   "mimetype": "text/x-python",
   "name": "python",
   "nbconvert_exporter": "python",
   "pygments_lexer": "ipython3",
   "version": "3.6.5"
  }
 },
 "nbformat": 4,
 "nbformat_minor": 2
}
