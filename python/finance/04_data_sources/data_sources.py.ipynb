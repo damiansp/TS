{
 "cells": [
  {
   "cell_type": "code",
   "execution_count": 19,
   "metadata": {},
   "outputs": [],
   "source": [
    "import datetime\n",
    "\n",
    "#from   mpl_finance import quotes_historical_yahoo_ochl as yahoo_data\n",
    "import pandas as pd\n",
    "import pandas_datareader.data as get_data"
   ]
  },
  {
   "cell_type": "code",
   "execution_count": 5,
   "metadata": {},
   "outputs": [
    {
     "name": "stdout",
     "output_type": "stream",
     "text": [
      "IBM_monthly.csv                      or_monthly_mean_temp_1895-2019.csv\r\n",
      "Monthly_CO2_Concentrations.csv       or_monthly_mean_temp_1895-2019.txt\r\n",
      "inflation-consumer-prices-annual.csv\r\n"
     ]
    }
   ],
   "source": [
    "!ls ../../../data"
   ]
  },
  {
   "cell_type": "code",
   "execution_count": 7,
   "metadata": {},
   "outputs": [],
   "source": [
    "DATA = '../../../data'"
   ]
  },
  {
   "cell_type": "code",
   "execution_count": 8,
   "metadata": {},
   "outputs": [
    {
     "data": {
      "text/html": [
       "<div>\n",
       "<style scoped>\n",
       "    .dataframe tbody tr th:only-of-type {\n",
       "        vertical-align: middle;\n",
       "    }\n",
       "\n",
       "    .dataframe tbody tr th {\n",
       "        vertical-align: top;\n",
       "    }\n",
       "\n",
       "    .dataframe thead th {\n",
       "        text-align: right;\n",
       "    }\n",
       "</style>\n",
       "<table border=\"1\" class=\"dataframe\">\n",
       "  <thead>\n",
       "    <tr style=\"text-align: right;\">\n",
       "      <th></th>\n",
       "      <th>Date</th>\n",
       "      <th>Open</th>\n",
       "      <th>High</th>\n",
       "      <th>Low</th>\n",
       "      <th>Close</th>\n",
       "      <th>Adj Close</th>\n",
       "      <th>Volume</th>\n",
       "    </tr>\n",
       "  </thead>\n",
       "  <tbody>\n",
       "    <tr>\n",
       "      <th>0</th>\n",
       "      <td>2018-09-01</td>\n",
       "      <td>145.979996</td>\n",
       "      <td>153.350006</td>\n",
       "      <td>144.809998</td>\n",
       "      <td>151.210007</td>\n",
       "      <td>144.157669</td>\n",
       "      <td>95867900</td>\n",
       "    </tr>\n",
       "    <tr>\n",
       "      <th>1</th>\n",
       "      <td>2018-10-01</td>\n",
       "      <td>151.710007</td>\n",
       "      <td>154.360001</td>\n",
       "      <td>114.089996</td>\n",
       "      <td>115.430000</td>\n",
       "      <td>110.046410</td>\n",
       "      <td>198093000</td>\n",
       "    </tr>\n",
       "    <tr>\n",
       "      <th>2</th>\n",
       "      <td>2018-11-01</td>\n",
       "      <td>115.500000</td>\n",
       "      <td>125.059998</td>\n",
       "      <td>114.540001</td>\n",
       "      <td>124.269997</td>\n",
       "      <td>118.474113</td>\n",
       "      <td>141718900</td>\n",
       "    </tr>\n",
       "    <tr>\n",
       "      <th>3</th>\n",
       "      <td>2018-12-01</td>\n",
       "      <td>125.669998</td>\n",
       "      <td>126.589996</td>\n",
       "      <td>105.940002</td>\n",
       "      <td>113.669998</td>\n",
       "      <td>109.748711</td>\n",
       "      <td>115604100</td>\n",
       "    </tr>\n",
       "    <tr>\n",
       "      <th>4</th>\n",
       "      <td>2019-01-01</td>\n",
       "      <td>112.010002</td>\n",
       "      <td>135.410004</td>\n",
       "      <td>111.690002</td>\n",
       "      <td>134.419998</td>\n",
       "      <td>129.782883</td>\n",
       "      <td>120387100</td>\n",
       "    </tr>\n",
       "  </tbody>\n",
       "</table>\n",
       "</div>"
      ],
      "text/plain": [
       "         Date        Open        High         Low       Close   Adj Close  \\\n",
       "0  2018-09-01  145.979996  153.350006  144.809998  151.210007  144.157669   \n",
       "1  2018-10-01  151.710007  154.360001  114.089996  115.430000  110.046410   \n",
       "2  2018-11-01  115.500000  125.059998  114.540001  124.269997  118.474113   \n",
       "3  2018-12-01  125.669998  126.589996  105.940002  113.669998  109.748711   \n",
       "4  2019-01-01  112.010002  135.410004  111.690002  134.419998  129.782883   \n",
       "\n",
       "      Volume  \n",
       "0   95867900  \n",
       "1  198093000  \n",
       "2  141718900  \n",
       "3  115604100  \n",
       "4  120387100  "
      ]
     },
     "execution_count": 8,
     "metadata": {},
     "output_type": "execute_result"
    }
   ],
   "source": [
    "x = pd.read_csv(f'{DATA}/IBM_monthly.csv')\n",
    "x.head()"
   ]
  },
  {
   "cell_type": "code",
   "execution_count": 13,
   "metadata": {},
   "outputs": [],
   "source": [
    "beg_date = datetime.datetime(1962, 11, 1)\n",
    "end_date = datetime.datetime(2019, 9, 9)"
   ]
  },
  {
   "cell_type": "code",
   "execution_count": 20,
   "metadata": {},
   "outputs": [],
   "source": [
    "#df = get_data.get_data_google('IBM', beg_date, end_date)\n",
    "#df.head()"
   ]
  },
  {
   "cell_type": "code",
   "execution_count": null,
   "metadata": {},
   "outputs": [],
   "source": []
  }
 ],
 "metadata": {
  "kernelspec": {
   "display_name": "Python 3",
   "language": "python",
   "name": "python3"
  },
  "language_info": {
   "codemirror_mode": {
    "name": "ipython",
    "version": 3
   },
   "file_extension": ".py",
   "mimetype": "text/x-python",
   "name": "python",
   "nbconvert_exporter": "python",
   "pygments_lexer": "ipython3",
   "version": "3.6.5"
  }
 },
 "nbformat": 4,
 "nbformat_minor": 2
}
